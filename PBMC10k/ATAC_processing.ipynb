{
 "cells": [
  {
   "cell_type": "markdown",
   "id": "0383b8f8-c146-4bfb-bbf3-7bb4664d971b",
   "metadata": {},
   "source": [
    "## 1. Load data"
   ]
  },
  {
   "cell_type": "code",
   "execution_count": 1,
   "id": "c8fdba1f-de3f-4ebe-a60c-f2e6c99d0c38",
   "metadata": {},
   "outputs": [
    {
     "name": "stdout",
     "output_type": "stream",
     "text": [
      "  % Total    % Received % Xferd  Average Speed   Time    Time     Time  Current\n",
      "                                 Dload  Upload   Total   Spent    Left  Speed\n",
      "100 5231k  100 5231k    0     0  2041k      0  0:00:02  0:00:02 --:--:-- 2041kk      0  0:00:03  0:00:02  0:00:01 1333k\n"
     ]
    }
   ],
   "source": [
    "#!curl -O https://cf.10xgenomics.com/samples/cell-arc/1.0.0/pbmc_granulocyte_sorted_10k/pbmc_granulocyte_sorted_10k_atac_peak_annotation.tsv"
   ]
  },
  {
   "cell_type": "code",
   "execution_count": 2,
   "id": "be5e8f53-209a-417d-bd80-5bf3a3ee3c42",
   "metadata": {},
   "outputs": [
    {
     "name": "stdout",
     "output_type": "stream",
     "text": [
      "  % Total    % Received % Xferd  Average Speed   Time    Time     Time  Current\n",
      "                                 Dload  Upload   Total   Spent    Left  Speed\n",
      "100 1956M  100 1956M    0     0  4794k      0  0:06:57  0:06:57 --:--:-- 3708k     0  0:05:14  0:00:24  0:04:50 7286k7k      0  0:06:12  0:01:34  0:04:38 4606k   0     0  5203k      0  0:06:24  0:03:09  0:03:15 4752k215k      0  0:06:24  0:03:24  0:03:00 5827k      0  0:06:22  0:03:32  0:02:50 5772kk      0  0:06:30  0:03:44  0:02:46 2781kM    0     0  4788k      0  0:06:58  0:04:11  0:02:47 2273k 0  4773k      0  0:06:59  0:04:13  0:02:46 2470k4k      0  0:07:03  0:04:18  0:02:45 2265k1245M    0     0  4611k      0  0:07:14  0:04:36  0:02:38 3171k   0  4546k      0  0:07:20  0:05:03  0:02:17 4698k04M    0     0  4775k      0  0:06:59  0:06:05  0:00:54 4494k\n",
      "  % Total    % Received % Xferd  Average Speed   Time    Time     Time  Current\n",
      "                                 Dload  Upload   Total   Spent    Left  Speed\n",
      "100 1003k  100 1003k    0     0   515k      0  0:00:01  0:00:01 --:--:--  515k\n"
     ]
    }
   ],
   "source": [
    "#!curl -O https://cf.10xgenomics.com/samples/cell-arc/1.0.0/pbmc_granulocyte_sorted_10k/pbmc_granulocyte_sorted_10k_atac_fragments.tsv.gz\n",
    "#!curl -O https://cf.10xgenomics.com/samples/cell-arc/1.0.0/pbmc_granulocyte_sorted_10k/pbmc_granulocyte_sorted_10k_atac_fragments.tsv.gz.tbi"
   ]
  },
  {
   "cell_type": "code",
   "execution_count": 3,
   "id": "07c8533f-5554-40b5-8e6d-32cde62c6135",
   "metadata": {},
   "outputs": [
    {
     "name": "stdout",
     "output_type": "stream",
     "text": [
      "  % Total    % Received % Xferd  Average Speed   Time    Time     Time  Current\n",
      "                                 Dload  Upload   Total   Spent    Left  Speed\n",
      "100  154M  100  154M    0     0  4923k      0  0:00:32  0:00:32 --:--:-- 3889k0  0:00:31  0:00:05  0:00:26 5278k\n"
     ]
    }
   ],
   "source": [
    "#!curl -O https://cf.10xgenomics.com/samples/cell-arc/1.0.0/pbmc_granulocyte_sorted_10k/pbmc_granulocyte_sorted_10k_filtered_feature_bc_matrix.h5"
   ]
  },
  {
   "cell_type": "code",
   "execution_count": 4,
   "id": "67c26ae0-0095-4a61-b147-2fcf9f9fd77b",
   "metadata": {},
   "outputs": [],
   "source": [
    "#!mkdir pbmc10k"
   ]
  },
  {
   "cell_type": "code",
   "execution_count": 6,
   "id": "b72e0495-db8c-41ca-848a-2a8abd49cda6",
   "metadata": {},
   "outputs": [],
   "source": [
    "#!mv pbmc_granulocyte* pbmc10k"
   ]
  },
  {
   "cell_type": "code",
   "execution_count": 15,
   "id": "60d20e37-7035-42fe-aef0-bc11b8ece59d",
   "metadata": {},
   "outputs": [],
   "source": [
    "#data_dir = './pbmc10k'"
   ]
  },
  {
   "cell_type": "code",
   "execution_count": 16,
   "id": "21e662f1-1d3c-4924-8e3d-59e98de4b6a8",
   "metadata": {},
   "outputs": [],
   "source": [
    "#import os"
   ]
  },
  {
   "cell_type": "code",
   "execution_count": 17,
   "id": "c8de5df2-4aca-4262-8503-debe6238f3c5",
   "metadata": {},
   "outputs": [],
   "source": [
    "#Remove file prefixes\n",
    "prefix = \"pbmc_granulocyte_sorted_10k_\"\n",
    "for file in os.listdir(data_dir):\n",
    "    if file.startswith(prefix):\n",
    "        new_filename = file[len(prefix):]\n",
    "        os.rename(os.path.join(data_dir, file), os.path.join(data_dir, new_filename))"
   ]
  },
  {
   "cell_type": "code",
   "execution_count": 18,
   "id": "2b0cd1db-ad48-448e-84f3-580e26142341",
   "metadata": {},
   "outputs": [],
   "source": [
    "import numpy as np\n",
    "import pandas as pd\n",
    "import scanpy as sc\n",
    "import anndata as ad"
   ]
  },
  {
   "cell_type": "code",
   "execution_count": 19,
   "id": "4dd50b56-717f-4c5c-b5db-068f27024758",
   "metadata": {},
   "outputs": [
    {
     "name": "stderr",
     "output_type": "stream",
     "text": [
      "2024-09-22 22:02:20.716047: I tensorflow/core/platform/cpu_feature_guard.cc:210] This TensorFlow binary is optimized to use available CPU instructions in performance-critical operations.\n",
      "To enable the following instructions: AVX2 AVX512F AVX512_VNNI FMA, in other operations, rebuild TensorFlow with the appropriate compiler flags.\n"
     ]
    }
   ],
   "source": [
    "import muon as mu"
   ]
  },
  {
   "cell_type": "code",
   "execution_count": 23,
   "id": "e771b952-f15e-46db-b8e2-a9a2a0c96ac1",
   "metadata": {},
   "outputs": [
    {
     "name": "stderr",
     "output_type": "stream",
     "text": [
      "/Applications/anaconda3/envs/SCanalysis/lib/python3.11/site-packages/anndata/_core/anndata.py:1820: UserWarning: Variable names are not unique. To make them unique, call `.var_names_make_unique`.\n",
      "  utils.warn_names_duplicates(\"var\")\n"
     ]
    },
    {
     "name": "stdout",
     "output_type": "stream",
     "text": [
      "Added `interval` annotation for features from ./pbmc10k/filtered_feature_bc_matrix.h5\n"
     ]
    },
    {
     "name": "stderr",
     "output_type": "stream",
     "text": [
      "/Applications/anaconda3/envs/SCanalysis/lib/python3.11/site-packages/anndata/_core/anndata.py:1820: UserWarning: Variable names are not unique. To make them unique, call `.var_names_make_unique`.\n",
      "  utils.warn_names_duplicates(\"var\")\n",
      "/Applications/anaconda3/envs/SCanalysis/lib/python3.11/site-packages/mudata/_core/mudata.py:477: UserWarning: var_names are not unique. To make them unique, call `.var_names_make_unique`.\n",
      "  warnings.warn(\n"
     ]
    },
    {
     "name": "stdout",
     "output_type": "stream",
     "text": [
      "Added peak annotation from ./pbmc10k/atac_peak_annotation.tsv to .uns['atac']['peak_annotation']\n",
      "Added gene names to peak annotation in .uns['atac']['peak_annotation']\n",
      "Located fragments file: ./pbmc10k/atac_fragments.tsv.gz\n"
     ]
    }
   ],
   "source": [
    "mdata = mu.read_10x_h5(os.path.join(data_dir, \"filtered_feature_bc_matrix.h5\"))"
   ]
  },
  {
   "cell_type": "code",
   "execution_count": 24,
   "id": "0b3a303f-9a1b-46b7-b798-e37c64fcf2d2",
   "metadata": {},
   "outputs": [],
   "source": [
    "mdata.var_names_make_unique()"
   ]
  },
  {
   "cell_type": "code",
   "execution_count": 26,
   "id": "6a49d83a-6276-47ef-a23f-8a4d03b10730",
   "metadata": {},
   "outputs": [],
   "source": [
    "mdata.write(\"pbmc10k.h5mu\")"
   ]
  },
  {
   "cell_type": "code",
   "execution_count": 27,
   "id": "04a77241-8c67-4d2b-a48a-9fd5b8cfb4ae",
   "metadata": {},
   "outputs": [
    {
     "data": {
      "text/html": [
       "<pre>MuData object with n_obs × n_vars = 11909 × 144978\n",
       "  var:\t&#x27;gene_ids&#x27;, &#x27;feature_types&#x27;, &#x27;genome&#x27;, &#x27;interval&#x27;\n",
       "  2 modalities\n",
       "    rna:\t11909 x 36601\n",
       "      var:\t&#x27;gene_ids&#x27;, &#x27;feature_types&#x27;, &#x27;genome&#x27;, &#x27;interval&#x27;\n",
       "    atac:\t11909 x 108377\n",
       "      var:\t&#x27;gene_ids&#x27;, &#x27;feature_types&#x27;, &#x27;genome&#x27;, &#x27;interval&#x27;\n",
       "      uns:\t&#x27;atac&#x27;, &#x27;files&#x27;</pre>"
      ],
      "text/plain": [
       "MuData object with n_obs × n_vars = 11909 × 144978\n",
       "  var:\t'gene_ids', 'feature_types', 'genome', 'interval'\n",
       "  2 modalities\n",
       "    rna:\t11909 x 36601\n",
       "      var:\t'gene_ids', 'feature_types', 'genome', 'interval'\n",
       "    atac:\t11909 x 108377\n",
       "      var:\t'gene_ids', 'feature_types', 'genome', 'interval'\n",
       "      uns:\t'atac', 'files'"
      ]
     },
     "execution_count": 27,
     "metadata": {},
     "output_type": "execute_result"
    }
   ],
   "source": [
    "mdata"
   ]
  },
  {
   "cell_type": "code",
   "execution_count": null,
   "id": "b24ff5b8-d263-46dc-8785-d014d8234461",
   "metadata": {},
   "outputs": [],
   "source": []
  },
  {
   "cell_type": "code",
   "execution_count": null,
   "id": "9b4b6779-d734-487a-9f56-024dd11bf436",
   "metadata": {},
   "outputs": [],
   "source": []
  },
  {
   "cell_type": "code",
   "execution_count": null,
   "id": "0f5eecbe-3072-4851-b717-56642ef5b317",
   "metadata": {},
   "outputs": [],
   "source": []
  },
  {
   "cell_type": "code",
   "execution_count": null,
   "id": "4fbf2881-ec51-4010-98fc-93c0ae9e6660",
   "metadata": {},
   "outputs": [],
   "source": []
  },
  {
   "cell_type": "code",
   "execution_count": null,
   "id": "3a46911a-4745-46da-8329-1c723c3bf72d",
   "metadata": {},
   "outputs": [],
   "source": []
  },
  {
   "cell_type": "code",
   "execution_count": null,
   "id": "dcf79fdf-cf14-43bd-b1c7-455feacd821e",
   "metadata": {},
   "outputs": [],
   "source": []
  },
  {
   "cell_type": "code",
   "execution_count": null,
   "id": "2f29e7a4-70c5-4426-9a70-2ad84a264ba9",
   "metadata": {},
   "outputs": [],
   "source": []
  },
  {
   "cell_type": "code",
   "execution_count": null,
   "id": "c07f03d3-25b7-4643-9d74-24a3c24f891c",
   "metadata": {},
   "outputs": [],
   "source": []
  },
  {
   "cell_type": "code",
   "execution_count": null,
   "id": "4a7ddd8c-23b4-49b5-be02-c161505743d1",
   "metadata": {},
   "outputs": [],
   "source": []
  },
  {
   "cell_type": "code",
   "execution_count": null,
   "id": "f96271f9-c8a6-4edb-a823-0b557917d4dd",
   "metadata": {},
   "outputs": [],
   "source": []
  },
  {
   "cell_type": "code",
   "execution_count": null,
   "id": "9d49db7e-2b9b-44a9-9a04-68ffcaa6c6a9",
   "metadata": {},
   "outputs": [],
   "source": []
  },
  {
   "cell_type": "code",
   "execution_count": null,
   "id": "4a04a9a0-a961-4efe-827f-e3cb0a3722a9",
   "metadata": {},
   "outputs": [],
   "source": []
  },
  {
   "cell_type": "code",
   "execution_count": null,
   "id": "47754967-2ab7-4190-8ba5-3bda08ccf475",
   "metadata": {},
   "outputs": [],
   "source": []
  },
  {
   "cell_type": "code",
   "execution_count": null,
   "id": "d7938a9a-10d0-44d4-bf45-7b12128a97bf",
   "metadata": {},
   "outputs": [],
   "source": []
  },
  {
   "cell_type": "code",
   "execution_count": null,
   "id": "7cde34bf-5f5e-4ed7-aa20-7d2800718b13",
   "metadata": {},
   "outputs": [],
   "source": []
  }
 ],
 "metadata": {
  "kernelspec": {
   "display_name": "SCanalysis",
   "language": "python",
   "name": "scanalysis"
  },
  "language_info": {
   "codemirror_mode": {
    "name": "ipython",
    "version": 3
   },
   "file_extension": ".py",
   "mimetype": "text/x-python",
   "name": "python",
   "nbconvert_exporter": "python",
   "pygments_lexer": "ipython3",
   "version": "3.11.9"
  }
 },
 "nbformat": 4,
 "nbformat_minor": 5
}
