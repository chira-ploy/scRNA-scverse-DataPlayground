{
 "cells": [
  {
   "cell_type": "markdown",
   "id": "0383b8f8-c146-4bfb-bbf3-7bb4664d971b",
   "metadata": {},
   "source": [
    "## 1. Load data"
   ]
  },
  {
   "cell_type": "code",
   "execution_count": 1,
   "id": "2b0cd1db-ad48-448e-84f3-580e26142341",
   "metadata": {},
   "outputs": [],
   "source": [
    "import numpy as np\n",
    "import pandas as pd\n",
    "import scanpy as sc\n",
    "import anndata as ad"
   ]
  },
  {
   "cell_type": "code",
   "execution_count": 43,
   "id": "83bb4f3b-df1a-4d3e-a53c-d91c64cec6ef",
   "metadata": {},
   "outputs": [],
   "source": [
    "import seaborn as sns\n",
    "import matplotlib.pyplot as plt"
   ]
  },
  {
   "cell_type": "code",
   "execution_count": 2,
   "id": "4dd50b56-717f-4c5c-b5db-068f27024758",
   "metadata": {},
   "outputs": [
    {
     "name": "stderr",
     "output_type": "stream",
     "text": [
      "2024-09-23 13:47:01.801074: I tensorflow/core/platform/cpu_feature_guard.cc:210] This TensorFlow binary is optimized to use available CPU instructions in performance-critical operations.\n",
      "To enable the following instructions: AVX2 AVX512F AVX512_VNNI FMA, in other operations, rebuild TensorFlow with the appropriate compiler flags.\n"
     ]
    }
   ],
   "source": [
    "import muon as mu"
   ]
  },
  {
   "cell_type": "code",
   "execution_count": 1,
   "id": "c8fdba1f-de3f-4ebe-a60c-f2e6c99d0c38",
   "metadata": {},
   "outputs": [
    {
     "name": "stdout",
     "output_type": "stream",
     "text": [
      "  % Total    % Received % Xferd  Average Speed   Time    Time     Time  Current\n",
      "                                 Dload  Upload   Total   Spent    Left  Speed\n",
      "100 5231k  100 5231k    0     0  2041k      0  0:00:02  0:00:02 --:--:-- 2041kk      0  0:00:03  0:00:02  0:00:01 1333k\n"
     ]
    }
   ],
   "source": [
    "#!curl -O https://cf.10xgenomics.com/samples/cell-arc/1.0.0/pbmc_granulocyte_sorted_10k/pbmc_granulocyte_sorted_10k_atac_peak_annotation.tsv"
   ]
  },
  {
   "cell_type": "code",
   "execution_count": 2,
   "id": "be5e8f53-209a-417d-bd80-5bf3a3ee3c42",
   "metadata": {},
   "outputs": [
    {
     "name": "stdout",
     "output_type": "stream",
     "text": [
      "  % Total    % Received % Xferd  Average Speed   Time    Time     Time  Current\n",
      "                                 Dload  Upload   Total   Spent    Left  Speed\n",
      "100 1956M  100 1956M    0     0  4794k      0  0:06:57  0:06:57 --:--:-- 3708k     0  0:05:14  0:00:24  0:04:50 7286k7k      0  0:06:12  0:01:34  0:04:38 4606k   0     0  5203k      0  0:06:24  0:03:09  0:03:15 4752k215k      0  0:06:24  0:03:24  0:03:00 5827k      0  0:06:22  0:03:32  0:02:50 5772kk      0  0:06:30  0:03:44  0:02:46 2781kM    0     0  4788k      0  0:06:58  0:04:11  0:02:47 2273k 0  4773k      0  0:06:59  0:04:13  0:02:46 2470k4k      0  0:07:03  0:04:18  0:02:45 2265k1245M    0     0  4611k      0  0:07:14  0:04:36  0:02:38 3171k   0  4546k      0  0:07:20  0:05:03  0:02:17 4698k04M    0     0  4775k      0  0:06:59  0:06:05  0:00:54 4494k\n",
      "  % Total    % Received % Xferd  Average Speed   Time    Time     Time  Current\n",
      "                                 Dload  Upload   Total   Spent    Left  Speed\n",
      "100 1003k  100 1003k    0     0   515k      0  0:00:01  0:00:01 --:--:--  515k\n"
     ]
    }
   ],
   "source": [
    "#!curl -O https://cf.10xgenomics.com/samples/cell-arc/1.0.0/pbmc_granulocyte_sorted_10k/pbmc_granulocyte_sorted_10k_atac_fragments.tsv.gz\n",
    "#!curl -O https://cf.10xgenomics.com/samples/cell-arc/1.0.0/pbmc_granulocyte_sorted_10k/pbmc_granulocyte_sorted_10k_atac_fragments.tsv.gz.tbi"
   ]
  },
  {
   "cell_type": "code",
   "execution_count": 3,
   "id": "07c8533f-5554-40b5-8e6d-32cde62c6135",
   "metadata": {},
   "outputs": [
    {
     "name": "stdout",
     "output_type": "stream",
     "text": [
      "  % Total    % Received % Xferd  Average Speed   Time    Time     Time  Current\n",
      "                                 Dload  Upload   Total   Spent    Left  Speed\n",
      "100  154M  100  154M    0     0  4923k      0  0:00:32  0:00:32 --:--:-- 3889k0  0:00:31  0:00:05  0:00:26 5278k\n"
     ]
    }
   ],
   "source": [
    "#!curl -O https://cf.10xgenomics.com/samples/cell-arc/1.0.0/pbmc_granulocyte_sorted_10k/pbmc_granulocyte_sorted_10k_filtered_feature_bc_matrix.h5"
   ]
  },
  {
   "cell_type": "code",
   "execution_count": 4,
   "id": "67c26ae0-0095-4a61-b147-2fcf9f9fd77b",
   "metadata": {},
   "outputs": [],
   "source": [
    "#!mkdir pbmc10k"
   ]
  },
  {
   "cell_type": "code",
   "execution_count": 6,
   "id": "b72e0495-db8c-41ca-848a-2a8abd49cda6",
   "metadata": {},
   "outputs": [],
   "source": [
    "#!mv pbmc_granulocyte* pbmc10k"
   ]
  },
  {
   "cell_type": "code",
   "execution_count": 15,
   "id": "60d20e37-7035-42fe-aef0-bc11b8ece59d",
   "metadata": {},
   "outputs": [],
   "source": [
    "#data_dir = './pbmc10k'"
   ]
  },
  {
   "cell_type": "code",
   "execution_count": 16,
   "id": "21e662f1-1d3c-4924-8e3d-59e98de4b6a8",
   "metadata": {},
   "outputs": [],
   "source": [
    "#import os"
   ]
  },
  {
   "cell_type": "code",
   "execution_count": 17,
   "id": "c8de5df2-4aca-4262-8503-debe6238f3c5",
   "metadata": {},
   "outputs": [],
   "source": [
    "#Remove file prefixes\n",
    "prefix = \"pbmc_granulocyte_sorted_10k_\"\n",
    "for file in os.listdir(data_dir):\n",
    "    if file.startswith(prefix):\n",
    "        new_filename = file[len(prefix):]\n",
    "        os.rename(os.path.join(data_dir, file), os.path.join(data_dir, new_filename))"
   ]
  },
  {
   "cell_type": "code",
   "execution_count": 23,
   "id": "e771b952-f15e-46db-b8e2-a9a2a0c96ac1",
   "metadata": {},
   "outputs": [
    {
     "name": "stderr",
     "output_type": "stream",
     "text": [
      "/Applications/anaconda3/envs/SCanalysis/lib/python3.11/site-packages/anndata/_core/anndata.py:1820: UserWarning: Variable names are not unique. To make them unique, call `.var_names_make_unique`.\n",
      "  utils.warn_names_duplicates(\"var\")\n"
     ]
    },
    {
     "name": "stdout",
     "output_type": "stream",
     "text": [
      "Added `interval` annotation for features from ./pbmc10k/filtered_feature_bc_matrix.h5\n"
     ]
    },
    {
     "name": "stderr",
     "output_type": "stream",
     "text": [
      "/Applications/anaconda3/envs/SCanalysis/lib/python3.11/site-packages/anndata/_core/anndata.py:1820: UserWarning: Variable names are not unique. To make them unique, call `.var_names_make_unique`.\n",
      "  utils.warn_names_duplicates(\"var\")\n",
      "/Applications/anaconda3/envs/SCanalysis/lib/python3.11/site-packages/mudata/_core/mudata.py:477: UserWarning: var_names are not unique. To make them unique, call `.var_names_make_unique`.\n",
      "  warnings.warn(\n"
     ]
    },
    {
     "name": "stdout",
     "output_type": "stream",
     "text": [
      "Added peak annotation from ./pbmc10k/atac_peak_annotation.tsv to .uns['atac']['peak_annotation']\n",
      "Added gene names to peak annotation in .uns['atac']['peak_annotation']\n",
      "Located fragments file: ./pbmc10k/atac_fragments.tsv.gz\n"
     ]
    }
   ],
   "source": [
    "mdata = mu.read_10x_h5(os.path.join(data_dir, \"filtered_feature_bc_matrix.h5\"))"
   ]
  },
  {
   "cell_type": "code",
   "execution_count": 24,
   "id": "0b3a303f-9a1b-46b7-b798-e37c64fcf2d2",
   "metadata": {},
   "outputs": [],
   "source": [
    "mdata.var_names_make_unique()"
   ]
  },
  {
   "cell_type": "code",
   "execution_count": 26,
   "id": "6a49d83a-6276-47ef-a23f-8a4d03b10730",
   "metadata": {},
   "outputs": [],
   "source": [
    "mdata.write(\"pbmc10k.h5mu\")"
   ]
  },
  {
   "cell_type": "code",
   "execution_count": 6,
   "id": "04a77241-8c67-4d2b-a48a-9fd5b8cfb4ae",
   "metadata": {},
   "outputs": [
    {
     "data": {
      "text/html": [
       "<pre>MuData object with n_obs × n_vars = 11909 × 144978\n",
       "  var:\t&#x27;gene_ids&#x27;, &#x27;feature_types&#x27;, &#x27;genome&#x27;, &#x27;interval&#x27;\n",
       "  2 modalities\n",
       "    rna:\t11909 x 36601\n",
       "      var:\t&#x27;gene_ids&#x27;, &#x27;feature_types&#x27;, &#x27;genome&#x27;, &#x27;interval&#x27;\n",
       "    atac:\t11909 x 108377\n",
       "      var:\t&#x27;gene_ids&#x27;, &#x27;feature_types&#x27;, &#x27;genome&#x27;, &#x27;interval&#x27;\n",
       "      uns:\t&#x27;atac&#x27;, &#x27;files&#x27;</pre>"
      ],
      "text/plain": [
       "MuData object with n_obs × n_vars = 11909 × 144978\n",
       "  var:\t'gene_ids', 'feature_types', 'genome', 'interval'\n",
       "  2 modalities\n",
       "    rna:\t11909 x 36601\n",
       "      var:\t'gene_ids', 'feature_types', 'genome', 'interval'\n",
       "    atac:\t11909 x 108377\n",
       "      var:\t'gene_ids', 'feature_types', 'genome', 'interval'\n",
       "      uns:\t'atac', 'files'"
      ]
     },
     "execution_count": 6,
     "metadata": {},
     "output_type": "execute_result"
    }
   ],
   "source": [
    "mdata = mu.read(\"pbmc10k.h5mu\")\n",
    "mdata"
   ]
  },
  {
   "cell_type": "markdown",
   "id": "3e368ea0-9755-4bc5-85ce-3797d56a80ba",
   "metadata": {},
   "source": [
    "The ATAC modality contains two entries in the unstructured data slot that contain the peak annotation and the path to the fragment file automatically located by muon."
   ]
  },
  {
   "cell_type": "code",
   "execution_count": 7,
   "id": "9b4b6779-d734-487a-9f56-024dd11bf436",
   "metadata": {},
   "outputs": [
    {
     "data": {
      "text/plain": [
       "{'atac': {'peak_annotation':                                peak  distance peak_type\n",
       "  gene_name                                              \n",
       "  MIR1302-2HG        chr1:10109-10357    -19197    distal\n",
       "  AL627309.5       chr1:180730-181630     -6869    distal\n",
       "  AL627309.5       chr1:191491-191736    -17630    distal\n",
       "  AP006222.2       chr1:267816-268196       962    distal\n",
       "  AC114498.1       chr1:586028-586373     -1256    distal\n",
       "  ...                             ...       ...       ...\n",
       "  AC213203.2   KI270713.1:20444-22615      9913    distal\n",
       "  AC213203.2   KI270713.1:27118-28927      3601    distal\n",
       "  AC213203.2   KI270713.1:29485-30706      1822    distal\n",
       "  AC213203.2   KI270713.1:31511-32072       456    distal\n",
       "  AC213203.1   KI270713.1:37129-37638      1723    distal\n",
       "  \n",
       "  [141066 rows x 3 columns]},\n",
       " 'files': {'fragments': './pbmc10k/atac_fragments.tsv.gz'}}"
      ]
     },
     "execution_count": 7,
     "metadata": {},
     "output_type": "execute_result"
    }
   ],
   "source": [
    "mdata.mod['atac'].uns"
   ]
  },
  {
   "cell_type": "code",
   "execution_count": 8,
   "id": "b9991ee8-ba0a-4f9f-a0af-992520cf49c2",
   "metadata": {},
   "outputs": [
    {
     "data": {
      "text/plain": [
       "AnnData object with n_obs × n_vars = 11909 × 108377\n",
       "    var: 'gene_ids', 'feature_types', 'genome', 'interval'\n",
       "    uns: 'atac', 'files'"
      ]
     },
     "execution_count": 8,
     "metadata": {},
     "output_type": "execute_result"
    }
   ],
   "source": [
    "atac = mdata.mod[\"atac\"]\n",
    "atac"
   ]
  },
  {
   "cell_type": "markdown",
   "id": "fcc484c6-094b-4563-bc43-e78a873cb31c",
   "metadata": {},
   "source": [
    "## 2. Quality control"
   ]
  },
  {
   "cell_type": "markdown",
   "id": "ca68aba2-cbd0-43e0-b5a0-470004c6263d",
   "metadata": {},
   "source": [
    "### 2.1. Doublet detection"
   ]
  },
  {
   "cell_type": "code",
   "execution_count": 10,
   "id": "2f72c9a1-6f75-4ab4-a663-7acbae7531ee",
   "metadata": {},
   "outputs": [],
   "source": [
    "import os\n",
    "\n",
    "os.environ['R_HOME'] = '/Applications/anaconda3/envs/SCanalysis/lib/R'"
   ]
  },
  {
   "cell_type": "code",
   "execution_count": 11,
   "id": "3a46911a-4745-46da-8329-1c723c3bf72d",
   "metadata": {},
   "outputs": [],
   "source": [
    "# Packages enabling to run R code\n",
    "import rpy2.rinterface_lib.callbacks\n",
    "import logging\n",
    "from rpy2.robjects import pandas2ri\n",
    "import anndata2ri"
   ]
  },
  {
   "cell_type": "code",
   "execution_count": 12,
   "id": "dcf79fdf-cf14-43bd-b1c7-455feacd821e",
   "metadata": {},
   "outputs": [
    {
     "name": "stderr",
     "output_type": "stream",
     "text": [
      "/var/folders/ly/mwzzbn7j7yd69hdl9hq_23540000gn/T/ipykernel_19031/861610988.py:2: DeprecationWarning: The global conversion available with activate() is deprecated and will be removed in the next major release. Use a local converter.\n",
      "  anndata2ri.activate()\n"
     ]
    }
   ],
   "source": [
    "pandas2ri.activate()  # Automatically convert rpy2 outputs to pandas DataFrames\n",
    "anndata2ri.activate()\n",
    "%load_ext rpy2.ipython"
   ]
  },
  {
   "cell_type": "code",
   "execution_count": 13,
   "id": "b45d7567-640c-4310-9d31-ca6e60db37e3",
   "metadata": {},
   "outputs": [
    {
     "name": "stdout",
     "output_type": "stream",
     "text": [
      "[1] \"Hello from R!\"\n"
     ]
    }
   ],
   "source": [
    "%%R\n",
    "print(\"Hello from R!\")"
   ]
  },
  {
   "cell_type": "code",
   "execution_count": 14,
   "id": "fa395ee3-d3af-47fb-99b4-4d5672ef0a0f",
   "metadata": {},
   "outputs": [],
   "source": [
    "%%R\n",
    "suppressPackageStartupMessages(library(scDblFinder))\n",
    "suppressPackageStartupMessages(library(SingleCellExperiment))"
   ]
  },
  {
   "cell_type": "code",
   "execution_count": 17,
   "id": "8391a341-5bc6-4ecd-b943-b579729f667b",
   "metadata": {},
   "outputs": [],
   "source": [
    "#save list of barcode\n",
    "barcodes = list(atac.obs_names)"
   ]
  },
  {
   "cell_type": "code",
   "execution_count": 23,
   "id": "c6e9b2cd-267c-4530-89ed-8018f38f16c3",
   "metadata": {},
   "outputs": [],
   "source": [
    "#To enable the transfer of our data matrix to an SingleCellExperiment R object\n",
    "#we transpose (.T) and convert the sparse matrix in the atac.X slot into an array (.A). \n",
    "data_mat = atac.X.T.toarray()"
   ]
  },
  {
   "cell_type": "code",
   "execution_count": 24,
   "id": "547ab3b2-70cd-4bae-b634-8e7ab532f459",
   "metadata": {},
   "outputs": [
    {
     "data": {
      "text/plain": [
       "Aggregating features...\n",
       "Clustering cells...\n",
       "Warning in (function (A, nv = 5, nu = nv, maxit = 1000, work = nv + 7, reorth = TRUE,  :\n",
       "  You're computing too large a percentage of total singular values, use a standard svd instead.\n",
       "9 clusters\n",
       "Creating ~9528 artificial doublets...\n",
       "Dimensional reduction\n",
       "Evaluating kNN...\n",
       "Training model...\n",
       "iter=0, 1114 cells excluded from training.\n",
       "iter=1, 1114 cells excluded from training.\n",
       "iter=2, 1114 cells excluded from training.\n",
       "Threshold found:0.4\n",
       "1500 (12.6%) doublets called\n",
       "Además: Warning message:\n",
       "In .checkSCE(sce) :\n",
       "  Some cells in `sce` have an extremely low read counts; note that these could trigger errors and might best be filtered out\n"
      ]
     },
     "metadata": {},
     "output_type": "display_data"
    },
    {
     "data": {
      "text/plain": [
       "array([0.44624792, 0.29090772, 0.11134703, ..., 0.        , 0.28792639,\n",
       "       0.30510247])"
      ]
     },
     "execution_count": 24,
     "metadata": {},
     "output_type": "execute_result"
    }
   ],
   "source": [
    "#Count distribution-based doublet scoring\n",
    "%R -i data_mat -o dbl_score sce <- scDblFinder(SingleCellExperiment(list(counts=data_mat)), \\\n",
    "                                               clusters=TRUE, aggregateFeatures=TRUE, nfeatures=25, \\\n",
    "                                               processing=\"normFeatures\"); dbl_score <- sce$scDblFinder.score"
   ]
  },
  {
   "cell_type": "markdown",
   "id": "d841a382-67ab-43c0-a284-989829a5c596",
   "metadata": {},
   "source": [
    "Based on the output 12.6% are suggested to be doulets."
   ]
  },
  {
   "cell_type": "code",
   "execution_count": 27,
   "id": "6e5f755a-ceb4-4c37-8030-93cdfaa80d39",
   "metadata": {},
   "outputs": [],
   "source": [
    "scDbl_result = pd.DataFrame({\"barcodes\": barcodes, \"scDblFinder_score\": dbl_score})\n",
    "scDbl_result.to_csv(\"scDblFinder_scores_pbmc10k.csv\")"
   ]
  },
  {
   "cell_type": "code",
   "execution_count": 29,
   "id": "b6fa1e4b-c3d0-4dbc-87f4-a0cccb994472",
   "metadata": {},
   "outputs": [
    {
     "data": {
      "text/html": [
       "<div>\n",
       "<style scoped>\n",
       "    .dataframe tbody tr th:only-of-type {\n",
       "        vertical-align: middle;\n",
       "    }\n",
       "\n",
       "    .dataframe tbody tr th {\n",
       "        vertical-align: top;\n",
       "    }\n",
       "\n",
       "    .dataframe thead th {\n",
       "        text-align: right;\n",
       "    }\n",
       "</style>\n",
       "<table border=\"1\" class=\"dataframe\">\n",
       "  <thead>\n",
       "    <tr style=\"text-align: right;\">\n",
       "      <th></th>\n",
       "      <th>barcodes</th>\n",
       "      <th>scDblFinder_score</th>\n",
       "    </tr>\n",
       "  </thead>\n",
       "  <tbody>\n",
       "    <tr>\n",
       "      <th>0</th>\n",
       "      <td>AAACAGCCAAGGAATC-1</td>\n",
       "      <td>0.446248</td>\n",
       "    </tr>\n",
       "    <tr>\n",
       "      <th>1</th>\n",
       "      <td>AAACAGCCAATCCCTT-1</td>\n",
       "      <td>0.290908</td>\n",
       "    </tr>\n",
       "    <tr>\n",
       "      <th>2</th>\n",
       "      <td>AAACAGCCAATGCGCT-1</td>\n",
       "      <td>0.111347</td>\n",
       "    </tr>\n",
       "    <tr>\n",
       "      <th>3</th>\n",
       "      <td>AAACAGCCACACTAAT-1</td>\n",
       "      <td>0.012987</td>\n",
       "    </tr>\n",
       "    <tr>\n",
       "      <th>4</th>\n",
       "      <td>AAACAGCCACCAACCG-1</td>\n",
       "      <td>0.103926</td>\n",
       "    </tr>\n",
       "  </tbody>\n",
       "</table>\n",
       "</div>"
      ],
      "text/plain": [
       "             barcodes  scDblFinder_score\n",
       "0  AAACAGCCAAGGAATC-1           0.446248\n",
       "1  AAACAGCCAATCCCTT-1           0.290908\n",
       "2  AAACAGCCAATGCGCT-1           0.111347\n",
       "3  AAACAGCCACACTAAT-1           0.012987\n",
       "4  AAACAGCCACCAACCG-1           0.103926"
      ]
     },
     "execution_count": 29,
     "metadata": {},
     "output_type": "execute_result"
    }
   ],
   "source": [
    "scDbl_result.head()"
   ]
  },
  {
   "cell_type": "code",
   "execution_count": 30,
   "id": "a37e99b9-ca54-4e20-8c92-1ccd39c811aa",
   "metadata": {},
   "outputs": [
    {
     "data": {
      "text/html": [
       "<div>\n",
       "<style scoped>\n",
       "    .dataframe tbody tr th:only-of-type {\n",
       "        vertical-align: middle;\n",
       "    }\n",
       "\n",
       "    .dataframe tbody tr th {\n",
       "        vertical-align: top;\n",
       "    }\n",
       "\n",
       "    .dataframe thead th {\n",
       "        text-align: right;\n",
       "    }\n",
       "</style>\n",
       "<table border=\"1\" class=\"dataframe\">\n",
       "  <thead>\n",
       "    <tr style=\"text-align: right;\">\n",
       "      <th></th>\n",
       "      <th>scDblFinder_score</th>\n",
       "    </tr>\n",
       "    <tr>\n",
       "      <th>barcodes</th>\n",
       "      <th></th>\n",
       "    </tr>\n",
       "  </thead>\n",
       "  <tbody>\n",
       "    <tr>\n",
       "      <th>AAACAGCCAAGGAATC-1</th>\n",
       "      <td>0.446248</td>\n",
       "    </tr>\n",
       "    <tr>\n",
       "      <th>AAACAGCCAATCCCTT-1</th>\n",
       "      <td>0.290908</td>\n",
       "    </tr>\n",
       "    <tr>\n",
       "      <th>AAACAGCCAATGCGCT-1</th>\n",
       "      <td>0.111347</td>\n",
       "    </tr>\n",
       "    <tr>\n",
       "      <th>AAACAGCCACACTAAT-1</th>\n",
       "      <td>0.012987</td>\n",
       "    </tr>\n",
       "    <tr>\n",
       "      <th>AAACAGCCACCAACCG-1</th>\n",
       "      <td>0.103926</td>\n",
       "    </tr>\n",
       "  </tbody>\n",
       "</table>\n",
       "</div>"
      ],
      "text/plain": [
       "                    scDblFinder_score\n",
       "barcodes                             \n",
       "AAACAGCCAAGGAATC-1           0.446248\n",
       "AAACAGCCAATCCCTT-1           0.290908\n",
       "AAACAGCCAATGCGCT-1           0.111347\n",
       "AAACAGCCACACTAAT-1           0.012987\n",
       "AAACAGCCACCAACCG-1           0.103926"
      ]
     },
     "execution_count": 30,
     "metadata": {},
     "output_type": "execute_result"
    }
   ],
   "source": [
    "scDbl_result = scDbl_result.set_index(\"barcodes\")\n",
    "scDbl_result.head()"
   ]
  },
  {
   "cell_type": "code",
   "execution_count": 31,
   "id": "5d558b1d-a699-4040-adf3-d01f9649ed23",
   "metadata": {},
   "outputs": [],
   "source": [
    "#add the column to adata.obs\n",
    "atac.obs[\"scDblFinder_score\"] = scDbl_result[\"scDblFinder_score\"]"
   ]
  },
  {
   "cell_type": "code",
   "execution_count": 38,
   "id": "416848b8-dda0-48be-924b-035a67b997f1",
   "metadata": {},
   "outputs": [
    {
     "data": {
      "text/html": [
       "<div>\n",
       "<style scoped>\n",
       "    .dataframe tbody tr th:only-of-type {\n",
       "        vertical-align: middle;\n",
       "    }\n",
       "\n",
       "    .dataframe tbody tr th {\n",
       "        vertical-align: top;\n",
       "    }\n",
       "\n",
       "    .dataframe thead th {\n",
       "        text-align: right;\n",
       "    }\n",
       "</style>\n",
       "<table border=\"1\" class=\"dataframe\">\n",
       "  <thead>\n",
       "    <tr style=\"text-align: right;\">\n",
       "      <th></th>\n",
       "      <th>scDblFinder_score</th>\n",
       "      <th>scDblFinder_class</th>\n",
       "    </tr>\n",
       "  </thead>\n",
       "  <tbody>\n",
       "    <tr>\n",
       "      <th>AAACAGCCAAGGAATC-1</th>\n",
       "      <td>0.446248</td>\n",
       "      <td>doublet</td>\n",
       "    </tr>\n",
       "    <tr>\n",
       "      <th>AAACAGCCAATCCCTT-1</th>\n",
       "      <td>0.290908</td>\n",
       "      <td>singlet</td>\n",
       "    </tr>\n",
       "    <tr>\n",
       "      <th>AAACAGCCAATGCGCT-1</th>\n",
       "      <td>0.111347</td>\n",
       "      <td>singlet</td>\n",
       "    </tr>\n",
       "    <tr>\n",
       "      <th>AAACAGCCACACTAAT-1</th>\n",
       "      <td>0.012987</td>\n",
       "      <td>singlet</td>\n",
       "    </tr>\n",
       "    <tr>\n",
       "      <th>AAACAGCCACCAACCG-1</th>\n",
       "      <td>0.103926</td>\n",
       "      <td>singlet</td>\n",
       "    </tr>\n",
       "    <tr>\n",
       "      <th>...</th>\n",
       "      <td>...</td>\n",
       "      <td>...</td>\n",
       "    </tr>\n",
       "    <tr>\n",
       "      <th>TTTGTTGGTGTTAAAC-1</th>\n",
       "      <td>0.150308</td>\n",
       "      <td>singlet</td>\n",
       "    </tr>\n",
       "    <tr>\n",
       "      <th>TTTGTTGGTTAGGATT-1</th>\n",
       "      <td>0.022848</td>\n",
       "      <td>singlet</td>\n",
       "    </tr>\n",
       "    <tr>\n",
       "      <th>TTTGTTGGTTGCAGTA-1</th>\n",
       "      <td>0.000000</td>\n",
       "      <td>singlet</td>\n",
       "    </tr>\n",
       "    <tr>\n",
       "      <th>TTTGTTGGTTGGTTAG-1</th>\n",
       "      <td>0.287926</td>\n",
       "      <td>singlet</td>\n",
       "    </tr>\n",
       "    <tr>\n",
       "      <th>TTTGTTGGTTTGCAGA-1</th>\n",
       "      <td>0.305102</td>\n",
       "      <td>singlet</td>\n",
       "    </tr>\n",
       "  </tbody>\n",
       "</table>\n",
       "<p>11909 rows × 2 columns</p>\n",
       "</div>"
      ],
      "text/plain": [
       "                    scDblFinder_score scDblFinder_class\n",
       "AAACAGCCAAGGAATC-1           0.446248           doublet\n",
       "AAACAGCCAATCCCTT-1           0.290908           singlet\n",
       "AAACAGCCAATGCGCT-1           0.111347           singlet\n",
       "AAACAGCCACACTAAT-1           0.012987           singlet\n",
       "AAACAGCCACCAACCG-1           0.103926           singlet\n",
       "...                               ...               ...\n",
       "TTTGTTGGTGTTAAAC-1           0.150308           singlet\n",
       "TTTGTTGGTTAGGATT-1           0.022848           singlet\n",
       "TTTGTTGGTTGCAGTA-1           0.000000           singlet\n",
       "TTTGTTGGTTGGTTAG-1           0.287926           singlet\n",
       "TTTGTTGGTTTGCAGA-1           0.305102           singlet\n",
       "\n",
       "[11909 rows x 2 columns]"
      ]
     },
     "execution_count": 38,
     "metadata": {},
     "output_type": "execute_result"
    }
   ],
   "source": [
    "atac.obs"
   ]
  },
  {
   "cell_type": "code",
   "execution_count": 33,
   "id": "d55ebec9-716f-47f6-b573-88afe7872389",
   "metadata": {},
   "outputs": [],
   "source": [
    "#Threshold found:0.4\n",
    "threshold = 0.4\n",
    "atac.obs[\"scDblFinder_class\"] = atac.obs[\"scDblFinder_score\"].apply(lambda x: 'doublet' if x >= threshold else 'singlet')"
   ]
  },
  {
   "cell_type": "code",
   "execution_count": 39,
   "id": "4babe4e5-d4b1-4eaa-999e-21225ff74437",
   "metadata": {},
   "outputs": [
    {
     "data": {
      "text/plain": [
       "scDblFinder_class\n",
       "singlet    10409\n",
       "doublet     1500\n",
       "Name: count, dtype: int64"
      ]
     },
     "execution_count": 39,
     "metadata": {},
     "output_type": "execute_result"
    }
   ],
   "source": [
    "atac.obs[\"scDblFinder_class\"].value_counts()"
   ]
  },
  {
   "cell_type": "code",
   "execution_count": 40,
   "id": "4a470987-4dc9-4155-b3ea-4b9ad5577bfd",
   "metadata": {},
   "outputs": [],
   "source": [
    "atac.write(\"pbmc10k_atac_doublet.h5mu\")"
   ]
  },
  {
   "cell_type": "code",
   "execution_count": 47,
   "id": "e5968ebd-64ac-4063-94ff-3d4612ea61c9",
   "metadata": {},
   "outputs": [
    {
     "data": {
      "image/png": "[encoded data removed]",
      "text/plain": [
       "<Figure size 640x480 with 1 Axes>"
      ]
     },
     "metadata": {},
     "output_type": "display_data"
    }
   ],
   "source": [
    "sns.histplot(x=atac.obs[\"scDblFinder_score\"], hue=atac.obs[\"scDblFinder_class\"])\n",
    "plt.title(\"doublet scores\")\n",
    "plt.show()"
   ]
  },
  {
   "cell_type": "code",
   "execution_count": 51,
   "id": "7bdf8a37-fa76-424a-8d1a-f2564c056326",
   "metadata": {},
   "outputs": [
    {
     "data": {
      "text/plain": [
       "View of AnnData object with n_obs × n_vars = 10409 × 108377\n",
       "    obs: 'scDblFinder_score', 'scDblFinder_class'\n",
       "    var: 'gene_ids', 'feature_types', 'genome', 'interval'\n",
       "    uns: 'atac', 'files'"
      ]
     },
     "execution_count": 51,
     "metadata": {},
     "output_type": "execute_result"
    }
   ],
   "source": [
    "atac = atac[atac.obs[\"scDblFinder_class\"] == 'singlet']\n",
    "atac"
   ]
  },
  {
   "cell_type": "markdown",
   "id": "e0dec503-12a3-4393-a841-c656affa5c52",
   "metadata": {},
   "source": [
    "### 2.2. Calculating QC metrics"
   ]
  },
  {
   "cell_type": "code",
   "execution_count": null,
   "id": "c07f03d3-25b7-4643-9d74-24a3c24f891c",
   "metadata": {},
   "outputs": [],
   "source": []
  },
  {
   "cell_type": "code",
   "execution_count": null,
   "id": "4a7ddd8c-23b4-49b5-be02-c161505743d1",
   "metadata": {},
   "outputs": [],
   "source": []
  },
  {
   "cell_type": "markdown",
   "id": "e2286410-5754-4970-aec5-4336ce138030",
   "metadata": {},
   "source": [
    "### 2.3. Filtering cells"
   ]
  },
  {
   "cell_type": "code",
   "execution_count": null,
   "id": "9d49db7e-2b9b-44a9-9a04-68ffcaa6c6a9",
   "metadata": {},
   "outputs": [],
   "source": []
  },
  {
   "cell_type": "code",
   "execution_count": null,
   "id": "4a04a9a0-a961-4efe-827f-e3cb0a3722a9",
   "metadata": {},
   "outputs": [],
   "source": []
  },
  {
   "cell_type": "markdown",
   "id": "3481b1c2-d1a7-40b4-aa55-227aae8e4423",
   "metadata": {},
   "source": [
    "### 2.4. Filtering features"
   ]
  },
  {
   "cell_type": "code",
   "execution_count": null,
   "id": "d7938a9a-10d0-44d4-bf45-7b12128a97bf",
   "metadata": {},
   "outputs": [],
   "source": []
  },
  {
   "cell_type": "code",
   "execution_count": null,
   "id": "7cde34bf-5f5e-4ed7-aa20-7d2800718b13",
   "metadata": {},
   "outputs": [],
   "source": []
  }
 ],
 "metadata": {
  "kernelspec": {
   "display_name": "SCanalysis",
   "language": "python",
   "name": "scanalysis"
  },
  "language_info": {
   "codemirror_mode": {
    "name": "ipython",
    "version": 3
   },
   "file_extension": ".py",
   "mimetype": "text/x-python",
   "name": "python",
   "nbconvert_exporter": "python",
   "pygments_lexer": "ipython3",
   "version": "3.11.9"
  }
 },
 "nbformat": 4,
 "nbformat_minor": 5
}
