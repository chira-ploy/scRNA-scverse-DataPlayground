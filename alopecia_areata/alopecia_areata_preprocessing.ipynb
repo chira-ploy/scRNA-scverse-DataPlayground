{
 "cells": [
  {
   "cell_type": "markdown",
   "id": "7dc15cc2",
   "metadata": {},
   "source": [
    "# Single-cell RNA Sequencing of human scalp: Preprocessing\n",
    "\n",
    "Data Source Acknowledgment: The dataset is sourced from [GSE212450](https://www.ncbi.nlm.nih.gov/geo/query/acc.cgi?acc=GSE212450). This notebook uses sub-dataset which comprises single-cell RNA sequencing data from human scalp with alopecia areata (GSM6532922\tAA8_scRNA) and control (GSM6532927\tC_SD2_scRNA).\n",
    "\n",
    "Reference: Ober-Reynolds B, Wang C, Ko JM, Rios EJ et al. Integrated single-cell chromatin and transcriptomic analyses of human scalp identify gene-regulatory programs and critical cell types for hair and skin diseases. Nat Genet 2023 Aug;55(8):1288-1300. PMID: 37500727\n",
    "\n",
    "It's essential to emphasize that this dataset is exclusively utilized for Python practice purposes within this repository. This notebook will use this dataset to practice data cleaning techniques and clustering."
   ]
  },
  {
   "cell_type": "code",
   "execution_count": 29,
   "id": "bed17a44",
   "metadata": {},
   "outputs": [],
   "source": [
    "#using SCanalysis environment\n",
    "import numpy as np\n",
    "import seaborn as sns\n",
    "import matplotlib.pyplot as plt\n",
    "import scanpy as sc\n",
    "import scvi\n",
    "import anndata as ad"
   ]
  },
  {
   "cell_type": "code",
   "execution_count": 2,
   "id": "ed37afca",
   "metadata": {},
   "outputs": [],
   "source": [
    "import warnings\n",
    "warnings.simplefilter(\"ignore\", FutureWarning)\n",
    "warnings.simplefilter(\"ignore\", RuntimeWarning)"
   ]
  },
  {
   "cell_type": "markdown",
   "id": "5740dbc1",
   "metadata": {},
   "source": [
    "## 1. Data Loading"
   ]
  },
  {
   "cell_type": "code",
   "execution_count": 4,
   "id": "bbfeb170",
   "metadata": {},
   "outputs": [],
   "source": [
    "#loading control\n",
    "adata_CON = sc.read_10x_mtx('./SD2')"
   ]
  },
  {
   "cell_type": "code",
   "execution_count": 23,
   "id": "2c06bf41",
   "metadata": {},
   "outputs": [
    {
     "data": {
      "text/plain": [
       "AnnData object with n_obs × n_vars = 3313 × 33538\n",
       "    var: 'gene_ids', 'feature_types'"
      ]
     },
     "execution_count": 23,
     "metadata": {},
     "output_type": "execute_result"
    }
   ],
   "source": [
    "adata_CON"
   ]
  },
  {
   "cell_type": "code",
   "execution_count": 32,
   "id": "f3672ead-7b0b-4b57-ab24-b60dcf04d03d",
   "metadata": {},
   "outputs": [],
   "source": [
    "#h5ad file will use for celllblender\n",
    "adata_CON.write_h5ad('adata_CON.h5ad')"
   ]
  },
  {
   "cell_type": "code",
   "execution_count": 10,
   "id": "a12d38fd",
   "metadata": {},
   "outputs": [],
   "source": [
    "#loading case\n",
    "adata_CASE = sc.read_10x_mtx('./AA2', prefix='GSM6532919_AA2_')"
   ]
  },
  {
   "cell_type": "code",
   "execution_count": 11,
   "id": "7caa64d1",
   "metadata": {},
   "outputs": [
    {
     "data": {
      "text/plain": [
       "AnnData object with n_obs × n_vars = 7503 × 33538\n",
       "    var: 'gene_ids', 'feature_types'"
      ]
     },
     "execution_count": 11,
     "metadata": {},
     "output_type": "execute_result"
    }
   ],
   "source": [
    "adata_CASE"
   ]
  },
  {
   "cell_type": "code",
   "execution_count": 33,
   "id": "90982fc3-66e3-4c9a-92bf-e7b04585d8fb",
   "metadata": {},
   "outputs": [],
   "source": [
    "adata_CASE.write_h5ad('adata_CASE.h5ad')"
   ]
  },
  {
   "cell_type": "markdown",
   "id": "72bf09b2-c1ad-462b-85b0-ab10af98b0b0",
   "metadata": {},
   "source": [
    "## 2. Ambient removal"
   ]
  },
  {
   "cell_type": "code",
   "execution_count": null,
   "id": "14254323-ea56-45f4-b8e4-45490ff78f1e",
   "metadata": {},
   "outputs": [],
   "source": [
    "#using cellblender environment (I dont have GPU it is super slow, so maybe I should try soupX)\n",
    "#!cellbender remove-background --input adata_CASE.h5ad --output adata_CASE_cleaned.h5ad"
   ]
  },
  {
   "cell_type": "code",
   "execution_count": null,
   "id": "92f23688-13bc-44a5-9e17-2e5824f5c40b",
   "metadata": {},
   "outputs": [],
   "source": [
    "#!cellbender remove-background --input adata_CON.h5ad --output adata_CON_cleaned.h5ad"
   ]
  },
  {
   "cell_type": "markdown",
   "id": "924eafca-1540-4974-9c29-a016f62e1a71",
   "metadata": {},
   "source": [
    "## 3. Preprocessing"
   ]
  },
  {
   "cell_type": "markdown",
   "id": "15be5f1e-4604-4de9-8a41-964cb34e1b8b",
   "metadata": {},
   "source": [
    "### 3.1 Quality control"
   ]
  },
  {
   "cell_type": "code",
   "execution_count": null,
   "id": "1d1c3cbe-7af1-4d83-b8f4-57520b7529ab",
   "metadata": {},
   "outputs": [],
   "source": [
    "def qc(adata):\n",
    "    #label mitochondrial genes\n",
    "    adata.var[\"mt\"] = adata.var_names.str.startswith(\"MT-\")\n",
    "    #label ribosomal genes\n",
    "    adata.var[\"ribo\"] = adata.var_names.str.startswith((\"RPS\", \"RPL\"))\n",
    "    #label hemoglobin genes.\n",
    "    adata.var[\"hb\"] = adata.var_names.str.contains((\"^HB[^(P)]\"))\n",
    "\n",
    "    sc.pp.calculate_qc_metrics(adata, qc_vars=[\"mt\", \"ribo\", \"hb\"], inplace=True, percent_top=[20], log1p=True)\n",
    "\n",
    "    #remove column we dont use\n",
    "    remove_list = ['total_counts_mt', 'log1p_total_counts_mt', 'total_counts_ribo', \n",
    "                  'log1p_total_counts_ribo', 'total_counts_hb', 'log1p_total_counts_hb']\n",
    "    adata.obs = adata.obs[[x for x in adata.obs.columns if x not in remove_list]]\n",
    "    return adata\n"
   ]
  },
  {
   "cell_type": "code",
   "execution_count": null,
   "id": "c7f0417e-deec-4455-b24a-60e248427c3f",
   "metadata": {},
   "outputs": [],
   "source": [
    "#CASE"
   ]
  },
  {
   "cell_type": "code",
   "execution_count": null,
   "id": "b17ba673-cd1c-4758-8cc0-efbf6cb8d1bc",
   "metadata": {},
   "outputs": [],
   "source": [
    "#CONTROL"
   ]
  },
  {
   "cell_type": "code",
   "execution_count": null,
   "id": "46f56c7b-03d7-4df3-832c-36ccdc86f190",
   "metadata": {},
   "outputs": [],
   "source": []
  },
  {
   "cell_type": "code",
   "execution_count": null,
   "id": "77a9a61c-b5ea-4b1d-9c6a-1f76d6877eb0",
   "metadata": {},
   "outputs": [],
   "source": []
  },
  {
   "cell_type": "code",
   "execution_count": null,
   "id": "238a50bf-56bd-46cb-9c46-5e5647250f8d",
   "metadata": {},
   "outputs": [],
   "source": []
  },
  {
   "cell_type": "markdown",
   "id": "9827f4c2-805f-4d2c-a31f-bdc80faa9b79",
   "metadata": {},
   "source": [
    "### 3.2 Filtering low quality cells based on qc matrix"
   ]
  },
  {
   "cell_type": "code",
   "execution_count": 2,
   "id": "c62fbfe6",
   "metadata": {},
   "outputs": [],
   "source": [
    "# MAD (median absolute deviations)\n",
    "from scipy.stats import median_abs_deviation as mad"
   ]
  },
  {
   "cell_type": "code",
   "execution_count": null,
   "id": "b134fc23",
   "metadata": {},
   "outputs": [],
   "source": [
    "def MAD_outlier(adata, matric, nmads):\n",
    "    M = "
   ]
  },
  {
   "cell_type": "code",
   "execution_count": null,
   "id": "9bb321a6",
   "metadata": {},
   "outputs": [],
   "source": []
  },
  {
   "cell_type": "code",
   "execution_count": null,
   "id": "8bf17bc5",
   "metadata": {},
   "outputs": [],
   "source": []
  },
  {
   "cell_type": "code",
   "execution_count": null,
   "id": "0dffa5ef",
   "metadata": {},
   "outputs": [],
   "source": []
  },
  {
   "cell_type": "markdown",
   "id": "b98cb550-9050-4d09-93b2-d7d23353f770",
   "metadata": {},
   "source": [
    "### 3.3 Doublet detection"
   ]
  },
  {
   "cell_type": "code",
   "execution_count": null,
   "id": "21db9938",
   "metadata": {},
   "outputs": [],
   "source": []
  },
  {
   "cell_type": "code",
   "execution_count": null,
   "id": "33cee9c6",
   "metadata": {},
   "outputs": [],
   "source": []
  },
  {
   "cell_type": "code",
   "execution_count": null,
   "id": "7fa885f1",
   "metadata": {},
   "outputs": [],
   "source": []
  },
  {
   "cell_type": "code",
   "execution_count": null,
   "id": "c1717409",
   "metadata": {},
   "outputs": [],
   "source": []
  },
  {
   "cell_type": "code",
   "execution_count": null,
   "id": "4b7ce081",
   "metadata": {},
   "outputs": [],
   "source": []
  },
  {
   "cell_type": "code",
   "execution_count": null,
   "id": "c41df182",
   "metadata": {},
   "outputs": [],
   "source": []
  },
  {
   "cell_type": "code",
   "execution_count": null,
   "id": "d0ca7897",
   "metadata": {},
   "outputs": [],
   "source": []
  },
  {
   "cell_type": "code",
   "execution_count": null,
   "id": "7352aeae",
   "metadata": {},
   "outputs": [],
   "source": []
  },
  {
   "cell_type": "code",
   "execution_count": null,
   "id": "06d5f515",
   "metadata": {},
   "outputs": [],
   "source": []
  },
  {
   "cell_type": "code",
   "execution_count": null,
   "id": "f0faca92",
   "metadata": {},
   "outputs": [],
   "source": []
  },
  {
   "cell_type": "code",
   "execution_count": null,
   "id": "50865834",
   "metadata": {},
   "outputs": [],
   "source": []
  },
  {
   "cell_type": "code",
   "execution_count": null,
   "id": "e5fd20db",
   "metadata": {},
   "outputs": [],
   "source": []
  },
  {
   "cell_type": "code",
   "execution_count": null,
   "id": "4809b60e",
   "metadata": {},
   "outputs": [],
   "source": []
  },
  {
   "cell_type": "code",
   "execution_count": null,
   "id": "b0049e33",
   "metadata": {},
   "outputs": [],
   "source": []
  },
  {
   "cell_type": "code",
   "execution_count": null,
   "id": "dd386f4c",
   "metadata": {},
   "outputs": [],
   "source": []
  },
  {
   "cell_type": "code",
   "execution_count": null,
   "id": "05470fb1",
   "metadata": {},
   "outputs": [],
   "source": []
  },
  {
   "cell_type": "code",
   "execution_count": null,
   "id": "766019f6",
   "metadata": {},
   "outputs": [],
   "source": []
  }
 ],
 "metadata": {
  "kernelspec": {
   "display_name": "SCanalysis",
   "language": "python",
   "name": "scanalysis"
  },
  "language_info": {
   "codemirror_mode": {
    "name": "ipython",
    "version": 3
   },
   "file_extension": ".py",
   "mimetype": "text/x-python",
   "name": "python",
   "nbconvert_exporter": "python",
   "pygments_lexer": "ipython3",
   "version": "3.11.9"
  }
 },
 "nbformat": 4,
 "nbformat_minor": 5
}
